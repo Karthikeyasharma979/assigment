{
 "cells": [
  {
   "cell_type": "code",
   "execution_count": 1,
   "id": "1ab651e0-9701-4cf9-85f6-7e1c1cd57362",
   "metadata": {},
   "outputs": [],
   "source": [
    "# What is the syntax for adding an element to a list in Python?\n",
    "l=[]"
   ]
  },
  {
   "cell_type": "code",
   "execution_count": 2,
   "id": "cfade64e-bdad-4007-bf15-6f28540ecc90",
   "metadata": {},
   "outputs": [],
   "source": [
    "# What is the difference between remove() and pop() functions in Python?\n",
    "#remove is used to remove the element if the element is not there it will show the keyerror\n",
    "#pop it will remove any element in list"
   ]
  },
  {
   "cell_type": "code",
   "execution_count": 3,
   "id": "76f5a9d5-bbe8-4472-ae1b-641dee7777c2",
   "metadata": {},
   "outputs": [
    {
     "name": "stdout",
     "output_type": "stream",
     "text": [
      "[34, 4, 2, 2, 1]\n"
     ]
    }
   ],
   "source": [
    "# Q3. Write a Python code to sort a list in descending order.\n",
    "l=[1,4,2,34,2]\n",
    "l.sort(reverse=True)\n",
    "print(l)"
   ]
  },
  {
   "cell_type": "code",
   "execution_count": 5,
   "id": "5deb50bb-b309-4e0e-b89f-f982f26078c1",
   "metadata": {},
   "outputs": [
    {
     "name": "stdout",
     "output_type": "stream",
     "text": [
      "5\n"
     ]
    }
   ],
   "source": [
    "# Write a Python code to count the number of occurrences of an element in a list.\n",
    "l=[1,4,2,3,23,2,3,3,3,3]\n",
    "print(l.count(3))"
   ]
  },
  {
   "cell_type": "code",
   "execution_count": 7,
   "id": "d7086d92-32ca-4e73-bb4a-21a04eb136e4",
   "metadata": {},
   "outputs": [
    {
     "name": "stdout",
     "output_type": "stream",
     "text": [
      "[5, 4, 3, 2, 1]\n"
     ]
    }
   ],
   "source": [
    "# Write a Python code to reverse a list.\n",
    "l=[1,2,3,4,5]\n",
    "print(l[::-1])"
   ]
  },
  {
   "cell_type": "code",
   "execution_count": null,
   "id": "563146b7-ffed-42f1-a221-38ec27246779",
   "metadata": {},
   "outputs": [],
   "source": []
  }
 ],
 "metadata": {
  "kernelspec": {
   "display_name": "Python 3 (ipykernel)",
   "language": "python",
   "name": "python3"
  },
  "language_info": {
   "codemirror_mode": {
    "name": "ipython",
    "version": 3
   },
   "file_extension": ".py",
   "mimetype": "text/x-python",
   "name": "python",
   "nbconvert_exporter": "python",
   "pygments_lexer": "ipython3",
   "version": "3.10.8"
  }
 },
 "nbformat": 4,
 "nbformat_minor": 5
}

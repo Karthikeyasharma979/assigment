{
 "cells": [
  {
   "cell_type": "code",
   "execution_count": 1,
   "id": "130fcc7b-a343-4859-a3db-141fc3aa652e",
   "metadata": {},
   "outputs": [],
   "source": [
    "# Create an empty list.\n",
    "ls=[]"
   ]
  },
  {
   "cell_type": "code",
   "execution_count": 11,
   "id": "d5d3efaa-aa2a-4890-96e1-52ccd1f2e53c",
   "metadata": {},
   "outputs": [
    {
     "data": {
      "text/plain": [
       "[1, 234, 9.5, 5]"
      ]
     },
     "execution_count": 11,
     "metadata": {},
     "output_type": "execute_result"
    }
   ],
   "source": [
    "# Create a list and add an element to the end of this list.\n",
    "ls1=[1,234,9.5]\n",
    "ls1.append(5)\n",
    "ls1"
   ]
  },
  {
   "cell_type": "code",
   "execution_count": 13,
   "id": "e09318e4-5beb-44a7-b9b2-2702474a8e14",
   "metadata": {},
   "outputs": [
    {
     "name": "stdout",
     "output_type": "stream",
     "text": [
      "5\n"
     ]
    }
   ],
   "source": [
    "print(ls1[3])"
   ]
  },
  {
   "cell_type": "code",
   "execution_count": 14,
   "id": "f607a9bd-2830-4e77-aa16-46243eb7aefb",
   "metadata": {},
   "outputs": [
    {
     "name": "stdout",
     "output_type": "stream",
     "text": [
      "[5, 9.5, 234, 1]\n"
     ]
    }
   ],
   "source": [
    "# Q4. Reverse the above created list.\n",
    "print(ls1[::-1])"
   ]
  },
  {
   "cell_type": "code",
   "execution_count": 16,
   "id": "43930668-c6a9-4ee3-8e3a-d94dec401f26",
   "metadata": {},
   "outputs": [
    {
     "data": {
      "text/plain": [
       "[1, 5, 9.5, 234]"
      ]
     },
     "execution_count": 16,
     "metadata": {},
     "output_type": "execute_result"
    }
   ],
   "source": [
    "# Q5. Sort the above created list.\n",
    "ls1.sort()\n",
    "ls1"
   ]
  },
  {
   "cell_type": "code",
   "execution_count": 18,
   "id": "6637bc18-97dd-476e-8c45-91ecdbbf1428",
   "metadata": {},
   "outputs": [
    {
     "data": {
      "text/plain": [
       "'pathan'"
      ]
     },
     "execution_count": 18,
     "metadata": {},
     "output_type": "execute_result"
    }
   ],
   "source": [
    "# Create a list of your top three favorite movies, then print the second movie title.\n",
    "movie=[\"RRR\",\"pathan\",\"pusha\"]\n",
    "movie[1]"
   ]
  },
  {
   "cell_type": "code",
   "execution_count": 28,
   "id": "2bf5cbe5-1a98-464c-a0a4-9a3e04468720",
   "metadata": {},
   "outputs": [
    {
     "data": {
      "text/plain": [
       "['cat', 'tiger', 'lion', 'monkey', 'donkey']"
      ]
     },
     "execution_count": 28,
     "metadata": {},
     "output_type": "execute_result"
    }
   ],
   "source": [
    "# Create a list of your favorite animals, then add a new animal to the list and print the updated list.\n",
    "animals=[\"tiger\",\"lion\",\"monkey\",\"donkey\"]\n",
    "# animals=animals.append(\"cat\")\n",
    "animals.insert(0,\"cat\")\n",
    "animals"
   ]
  },
  {
   "cell_type": "code",
   "execution_count": 30,
   "id": "2068211d-b94e-4a80-850b-66e955afeab6",
   "metadata": {},
   "outputs": [
    {
     "data": {
      "text/plain": [
       "1"
      ]
     },
     "execution_count": 30,
     "metadata": {},
     "output_type": "execute_result"
    }
   ],
   "source": [
    "# Create a list of your favorite cities, then use the index() method to find the position of a specific city\n",
    "# on the list and print it.\n",
    "city=[\"pune\",\"hyderabad\",\"mumbai\",\"chennai\"]\n",
    "i=city.index(\"hyderabad\")\n",
    "i"
   ]
  },
  {
   "cell_type": "code",
   "execution_count": null,
   "id": "388382dd-2e42-4ce6-9bda-6330dcb8e139",
   "metadata": {},
   "outputs": [],
   "source": []
  }
 ],
 "metadata": {
  "kernelspec": {
   "display_name": "Python 3 (ipykernel)",
   "language": "python",
   "name": "python3"
  },
  "language_info": {
   "codemirror_mode": {
    "name": "ipython",
    "version": 3
   },
   "file_extension": ".py",
   "mimetype": "text/x-python",
   "name": "python",
   "nbconvert_exporter": "python",
   "pygments_lexer": "ipython3",
   "version": "3.10.8"
  }
 },
 "nbformat": 4,
 "nbformat_minor": 5
}

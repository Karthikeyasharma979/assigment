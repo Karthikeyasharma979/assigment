{
 "cells": [
  {
   "cell_type": "code",
   "execution_count": null,
   "id": "70c4769e-2b12-44de-abbb-fd3f0d909df2",
   "metadata": {},
   "outputs": [],
   "source": [
    "# Q1. What is a set in Python?\n",
    "# Set elements are unique. Duplicate elements are not allowed."
   ]
  },
  {
   "cell_type": "code",
   "execution_count": 1,
   "id": "28e8df0d-d5f4-4a49-a6d9-88eaa7bff2f0",
   "metadata": {},
   "outputs": [],
   "source": [
    "# Q2.How do you create a set in Python?\n",
    "s={}\n"
   ]
  },
  {
   "cell_type": "code",
   "execution_count": null,
   "id": "c2c15163-b013-4ae5-b6f4-58720c3db459",
   "metadata": {},
   "outputs": [],
   "source": [
    "# Q3. How do you add elements to a set in Python?\n",
    "s={1,2,3,42,1,}\n",
    "s.add(3)"
   ]
  },
  {
   "cell_type": "code",
   "execution_count": 3,
   "id": "3023a45d-26c0-44b9-9321-fcab5c4b8acd",
   "metadata": {},
   "outputs": [
    {
     "name": "stdout",
     "output_type": "stream",
     "text": [
      "{1, 3, 412}\n"
     ]
    }
   ],
   "source": [
    "# Q4. How do you remove elements from a set in Python?\n",
    "s={1,31,412,31,3,1}\n",
    "s.remove(31)\n",
    "print(s)"
   ]
  },
  {
   "cell_type": "code",
   "execution_count": 8,
   "id": "4e6fbebe-19ad-487e-98ee-6af5804f4f9a",
   "metadata": {},
   "outputs": [
    {
     "name": "stdout",
     "output_type": "stream",
     "text": [
      "6\n"
     ]
    }
   ],
   "source": [
    "#Q5. How do you get the length of a set in Python?\n",
    "s={1,2,3,4,5,6}\n",
    "# len(s)\n",
    "s=list(s)\n",
    "print(len(s))"
   ]
  },
  {
   "cell_type": "code",
   "execution_count": null,
   "id": "ff6251d9-aeee-4f1b-bfaf-d849c21e2df2",
   "metadata": {},
   "outputs": [],
   "source": []
  }
 ],
 "metadata": {
  "kernelspec": {
   "display_name": "Python 3 (ipykernel)",
   "language": "python",
   "name": "python3"
  },
  "language_info": {
   "codemirror_mode": {
    "name": "ipython",
    "version": 3
   },
   "file_extension": ".py",
   "mimetype": "text/x-python",
   "name": "python",
   "nbconvert_exporter": "python",
   "pygments_lexer": "ipython3",
   "version": "3.10.8"
  }
 },
 "nbformat": 4,
 "nbformat_minor": 5
}

{
 "cells": [
  {
   "cell_type": "code",
   "execution_count": 4,
   "id": "fd1e98a8-577d-416d-8c7d-b6695716e2d6",
   "metadata": {},
   "outputs": [
    {
     "data": {
      "text/plain": [
       "\"'\""
      ]
     },
     "execution_count": 4,
     "metadata": {},
     "output_type": "execute_result"
    }
   ],
   "source": [
    "# QTQ How can we store a s1ngle quote (‘) as a str1ng 1n a var1able?\n",
    "str1=\"'\"\n",
    "str1\n"
   ]
  },
  {
   "cell_type": "code",
   "execution_count": 9,
   "id": "76da44fc-d251-4007-b9ed-0841d8a58fc4",
   "metadata": {},
   "outputs": [
    {
     "data": {
      "text/plain": [
       "str"
      ]
     },
     "execution_count": 9,
     "metadata": {},
     "output_type": "execute_result"
    }
   ],
   "source": [
    "# Q/Q Refer the below var1able:\n",
    "# x = ‘a(\n",
    "# Here, 1s x a character type or str1ng type var1able? Support your answer w1th an explanat1on.\n",
    "x = 'a'\n",
    "x  = \"a\"\n",
    "type(x)"
   ]
  },
  {
   "cell_type": "markdown",
   "id": "b6c391d2-8646-4396-85b4-6e8f1ae98595",
   "metadata": {},
   "source": [
    "from the above we conclude that there is not separate data type to store char"
   ]
  },
  {
   "cell_type": "code",
   "execution_count": 24,
   "id": "c580953d-debd-4f4f-b244-2870e5c37069",
   "metadata": {},
   "outputs": [
    {
     "name": "stdout",
     "output_type": "stream",
     "text": [
      "Element is not found\n",
      "Total count =  6\n",
      "String lenght=  35\n",
      "String concatenation =  Hello Welcome to python foundation course\n"
     ]
    }
   ],
   "source": [
    "# Q Apply the follow1ng funct1ons on th1s var1able: ‘Welcome to Python foun at1on course'\n",
    "# SP f1n (0\n",
    "# P count(0\n",
    "# P len(0\n",
    "# P Concatenat1on\n",
    "# Note: You can use your cho1ce of parametersQ But make sure 1t 1s correct.\n",
    "\n",
    "str1=\"Welcome to python foundation course\"\n",
    "if(str1.find(\"welcome\")==0):\n",
    "    print(\"Element is found\")\n",
    "else:\n",
    "    print(\"Element is not found\")\n",
    "\n",
    "print(\"Total count = \",str1.count(\"o\"))\n",
    "print(\"String lenght= \",len(str1))\n",
    "str2=\"Hello \"\n",
    "print(\"String concatenation = \",str2+str1)"
   ]
  },
  {
   "cell_type": "code",
   "execution_count": null,
   "id": "273e6e06-ca00-4c45-bea4-95d26aebbc15",
   "metadata": {},
   "outputs": [],
   "source": []
  }
 ],
 "metadata": {
  "kernelspec": {
   "display_name": "Python 3 (ipykernel)",
   "language": "python",
   "name": "python3"
  },
  "language_info": {
   "codemirror_mode": {
    "name": "ipython",
    "version": 3
   },
   "file_extension": ".py",
   "mimetype": "text/x-python",
   "name": "python",
   "nbconvert_exporter": "python",
   "pygments_lexer": "ipython3",
   "version": "3.10.8"
  }
 },
 "nbformat": 4,
 "nbformat_minor": 5
}
